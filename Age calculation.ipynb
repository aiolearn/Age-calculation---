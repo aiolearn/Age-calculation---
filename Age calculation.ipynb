{
 "cells": [
  {
   "cell_type": "markdown",
   "metadata": {},
   "source": [
    "Import Library"
   ]
  },
  {
   "cell_type": "code",
   "execution_count": 1,
   "metadata": {},
   "outputs": [],
   "source": [
    "import time\n",
    "from calendar import isleap"
   ]
  },
  {
   "cell_type": "code",
   "execution_count": 2,
   "metadata": {},
   "outputs": [],
   "source": [
    "def judge_leap_year(year):\n",
    "    \"\"\"\n",
    "    بررسی اینکه آیا سال کبیسه است یا نه.\n",
    "    :param year: سال مورد نظر\n",
    "    :return: اگر سال کبیسه باشد True و در غیر این صورت False\n",
    "    \"\"\"\n",
    "    if isleap(year):\n",
    "        return True\n",
    "    else:\n",
    "        return False"
   ]
  },
  {
   "cell_type": "code",
   "execution_count": 3,
   "metadata": {},
   "outputs": [],
   "source": [
    "def month_days(month, leap_year):\n",
    "    \"\"\"\n",
    "    با توجه به ماه و اینکه سال کبیسه است یا نه، تعداد روزهای ماه را بازگردانی می‌کند.\n",
    "    :param month: ماه مورد نظر\n",
    "    :param leap_year: اگر سال کبیسه باشد True و در غیر این صورت False\n",
    "    :return: تعداد روزهای ماه\n",
    "    \"\"\"\n",
    "    if month in [1, 3, 5, 7, 8, 10, 12]:\n",
    "        return 31\n",
    "    elif month in [4, 6, 9, 11]:\n",
    "        return 30\n",
    "    elif month == 2 and leap_year:\n",
    "        return 29\n",
    "    elif month == 2 and (not leap_year):\n",
    "        return 28"
   ]
  },
  {
   "cell_type": "code",
   "execution_count": 4,
   "metadata": {},
   "outputs": [],
   "source": [
    "def to_hours(days):\n",
    "    \"\"\"\n",
    "    تبدیل تعداد روزها به ساعت.\n",
    "    :param days: تعداد روزها\n",
    "    :return: تعداد ساعت معادل\n",
    "    \"\"\"\n",
    "    hours = days * 24\n",
    "    return hours"
   ]
  },
  {
   "cell_type": "code",
   "execution_count": 5,
   "metadata": {},
   "outputs": [],
   "source": [
    "def to_seconds(days):\n",
    "    \"\"\"\n",
    "    تبدیل تعداد روزها به ثانیه.\n",
    "    :param days: تعداد روزها\n",
    "    :return: تعداد ثانیه معادل\n",
    "    \"\"\"\n",
    "    seconds = days * 24 * 3600\n",
    "    return seconds"
   ]
  },
  {
   "cell_type": "code",
   "execution_count": 6,
   "metadata": {},
   "outputs": [],
   "source": [
    "# درخواست ورودی از کاربر برای وارد کردن سن\n",
    "age = input(\"input your age: \")\n",
    "localtime = time.localtime(time.time())"
   ]
  },
  {
   "cell_type": "code",
   "execution_count": 7,
   "metadata": {},
   "outputs": [],
   "source": [
    "# تبدیل سن به سال\n",
    "year = int(age)\n",
    "# محاسبه تعداد ماه‌ها\n",
    "month = year * 12 + localtime.tm_mon\n",
    "day = 0"
   ]
  },
  {
   "cell_type": "code",
   "execution_count": 8,
   "metadata": {},
   "outputs": [],
   "source": [
    "# محاسبه تعداد روزها با استفاده از تابع judge_leap_year\n",
    "begin_year = int(localtime.tm_year) - year\n",
    "end_year = begin_year + year"
   ]
  },
  {
   "cell_type": "code",
   "execution_count": 9,
   "metadata": {},
   "outputs": [],
   "source": [
    "for y in range(begin_year, end_year):\n",
    "    if (judge_leap_year(y)):\n",
    "        day = day + 366\n",
    "    else:\n",
    "        day = day + 365"
   ]
  },
  {
   "cell_type": "code",
   "execution_count": 10,
   "metadata": {},
   "outputs": [],
   "source": [
    "# بررسی اینکه سال جاری کبیسه است یا نه\n",
    "leap_year = judge_leap_year(localtime.tm_year)\n",
    "# اضافه کردن تعداد روزهای ماه‌های گذشته از این سال\n",
    "for m in range(1, localtime.tm_mon):\n",
    "    day = day + month_days(m, leap_year)"
   ]
  },
  {
   "cell_type": "code",
   "execution_count": 11,
   "metadata": {},
   "outputs": [],
   "source": [
    "# اضافه کردن تعداد روزهای ماه جاری\n",
    "day = day + localtime.tm_mday"
   ]
  },
  {
   "cell_type": "code",
   "execution_count": 12,
   "metadata": {},
   "outputs": [],
   "source": [
    "# تبدیل تعداد روزها به ساعت و ثانیه\n",
    "hours = to_hours(day)\n",
    "seconds = to_seconds(day)"
   ]
  },
  {
   "cell_type": "code",
   "execution_count": 13,
   "metadata": {},
   "outputs": [
    {
     "name": "stdout",
     "output_type": "stream",
     "text": [
      "age is 16 years or 194 months or 5901 days or 141624 hours or 509846400 seconds\n"
     ]
    }
   ],
   "source": [
    "# چاپ نتیجه به صورت فرمت‌بندی شده\n",
    "print(\"age is %d years or \" % (year), end=\"\")\n",
    "print(\"%d months or %d days\" % (month, day), end=\"\")\n",
    "print(\" or %d hours or %d seconds\" % (hours, seconds))"
   ]
  }
 ],
 "metadata": {
  "kernelspec": {
   "display_name": "Python 3.8.8 64-bit",
   "language": "python",
   "name": "python3"
  },
  "language_info": {
   "codemirror_mode": {
    "name": "ipython",
    "version": 3
   },
   "file_extension": ".py",
   "mimetype": "text/x-python",
   "name": "python",
   "nbconvert_exporter": "python",
   "pygments_lexer": "ipython3",
   "version": "3.8.8"
  },
  "orig_nbformat": 4,
  "vscode": {
   "interpreter": {
    "hash": "570feb405e2e27c949193ac68f46852414290d515b0ba6e5d90d076ed2284471"
   }
  }
 },
 "nbformat": 4,
 "nbformat_minor": 2
}
